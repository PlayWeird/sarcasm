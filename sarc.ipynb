{
 "cells": [
  {
   "cell_type": "code",
   "execution_count": 5,
   "metadata": {},
   "outputs": [],
   "source": [
    "import utils"
   ]
  },
  {
   "cell_type": "code",
   "execution_count": 10,
   "metadata": {},
   "outputs": [],
   "source": [
    "SARC_DATA = '/home/gaetano/Dropbox/SARC/DATA/'\n",
    "SARC_MAIN = SARC_DATA + 'main/'\n",
    "SARC_POL = SARC_DATA + 'pol/'\n",
    "\n",
    "train_path = SARC_MAIN + 'train-balanced.csv'\n",
    "test_path = SARC_MAIN + 'test-balanced.csv'\n",
    "comment_path = SARC_MAIN + 'comments.json'\n",
    "\n",
    "train_docs, test_docs, train_labels, test_labels = utils.load_sarc_responses(train_path, test_path, comment_path)"
   ]
  },
  {
   "cell_type": "code",
   "execution_count": 12,
   "metadata": {},
   "outputs": [
    {
     "name": "stdout",
     "output_type": "stream",
     "text": [
      "dict_keys(['ancestors', 'responses'])\n"
     ]
    }
   ],
   "source": [
    "print(train_docs.keys())"
   ]
  },
  {
   "cell_type": "code",
   "execution_count": 14,
   "metadata": {},
   "outputs": [
    {
     "data": {
      "text/plain": [
       "(128541, 128541)"
      ]
     },
     "execution_count": 14,
     "metadata": {},
     "output_type": "execute_result"
    }
   ],
   "source": [
    "len(train_docs['ancestors']), len(train_docs['responses'])"
   ]
  },
  {
   "cell_type": "code",
   "execution_count": 40,
   "metadata": {},
   "outputs": [
    {
     "data": {
      "text/plain": [
       "(['has your credit card number been stolen on the internet?'],\n",
       " ['sweet .. can i check all my credit card with this ...',\n",
       "  'this scam is so old the last time i entered my credit card number into it they used my information to buy a triceratops.'])"
      ]
     },
     "execution_count": 40,
     "metadata": {},
     "output_type": "execute_result"
    }
   ],
   "source": [
    "sample_index = 11\n",
    "train_docs['ancestors'][sample_index], train_docs['responses'][sample_index]"
   ]
  },
  {
   "cell_type": "code",
   "execution_count": 41,
   "metadata": {},
   "outputs": [
    {
     "data": {
      "text/plain": [
       "['1', '0']"
      ]
     },
     "execution_count": 41,
     "metadata": {},
     "output_type": "execute_result"
    }
   ],
   "source": [
    "train_labels[sample_index]"
   ]
  },
  {
   "cell_type": "code",
   "execution_count": null,
   "metadata": {},
   "outputs": [],
   "source": []
  }
 ],
 "metadata": {
  "kernelspec": {
   "display_name": "Python 3",
   "language": "python",
   "name": "python3"
  },
  "language_info": {
   "codemirror_mode": {
    "name": "ipython",
    "version": 3
   },
   "file_extension": ".py",
   "mimetype": "text/x-python",
   "name": "python",
   "nbconvert_exporter": "python",
   "pygments_lexer": "ipython3",
   "version": "3.7.4"
  }
 },
 "nbformat": 4,
 "nbformat_minor": 2
}
