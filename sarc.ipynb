{
  "cells": [
    {
      "cell_type": "code",
      "execution_count": 3,
      "metadata": {
        "pycharm": {
          "is_executing": false
        }
      },
      "outputs": [],
      "source": "import sys\nsys.path.insert(1, \u0027src/\u0027)\nimport utils\nimport config\n"
    },
    {
      "cell_type": "code",
      "execution_count": 4,
      "metadata": {
        "pycharm": {
          "is_executing": false
        }
      },
      "outputs": [],
      "source": "SARC_DATA \u003d config.SARC_DATA\nSARC_MAIN \u003d config.SARC_MAIN\nSARC_POL \u003d config.SARC_POL\n\ntrain_path \u003d SARC_MAIN + \u0027train-balanced.csv\u0027\ntest_path \u003d SARC_MAIN + \u0027test-balanced.csv\u0027\ncomment_path \u003d SARC_MAIN + \u0027comments.json\u0027\n\ntrain_docs, test_docs, train_labels, test_labels \u003d utils.load_sarc_responses(train_path, test_path, comment_path)"
    },
    {
      "cell_type": "code",
      "execution_count": 5,
      "metadata": {
        "pycharm": {
          "is_executing": false
        }
      },
      "outputs": [
        {
          "name": "stdout",
          "text": [
            "dict_keys([\u0027ancestors\u0027, \u0027responses\u0027])\n"
          ],
          "output_type": "stream"
        }
      ],
      "source": "print(train_docs.keys())"
    },
    {
      "cell_type": "code",
      "execution_count": 6,
      "metadata": {
        "pycharm": {
          "is_executing": false
        }
      },
      "outputs": [
        {
          "data": {
            "text/plain": "(128541, 128541)"
          },
          "metadata": {},
          "output_type": "execute_result",
          "execution_count": 6
        }
      ],
      "source": [
        "len(train_docs[\u0027ancestors\u0027]), len(train_docs[\u0027responses\u0027])"
      ]
    },
    {
      "cell_type": "code",
      "execution_count": 7,
      "metadata": {
        "pycharm": {
          "is_executing": false
        }
      },
      "outputs": [
        {
          "data": {
            "text/plain": "([\u0027the hidden cost of war (animation)\u0027],\n [\u0027i for one, am glad we have priorities straight.\u0027, \u0027neato!\u0027])"
          },
          "metadata": {},
          "output_type": "execute_result",
          "execution_count": 7
        }
      ],
      "source": [
        "sample_index \u003d 5\n",
        "train_docs[\u0027ancestors\u0027][sample_index], train_docs[\u0027responses\u0027][sample_index]"
      ]
    },
    {
      "cell_type": "code",
      "execution_count": 8,
      "metadata": {
        "pycharm": {
          "is_executing": false
        }
      },
      "outputs": [
        {
          "data": {
            "text/plain": "[\u00271\u0027, \u00270\u0027]"
          },
          "metadata": {},
          "output_type": "execute_result",
          "execution_count": 8
        }
      ],
      "source": [
        "train_labels[sample_index]"
      ]
    },
    {
      "cell_type": "code",
      "execution_count": null,
      "metadata": {
        "pycharm": {}
      },
      "outputs": [],
      "source": []
    }
  ],
  "metadata": {
    "kernelspec": {
      "display_name": "Python 3",
      "language": "python",
      "name": "python3"
    },
    "language_info": {
      "codemirror_mode": {
        "name": "ipython",
        "version": 3
      },
      "file_extension": ".py",
      "mimetype": "text/x-python",
      "name": "python",
      "nbconvert_exporter": "python",
      "pygments_lexer": "ipython3",
      "version": "3.7.4"
    },
    "pycharm": {
      "stem_cell": {
        "cell_type": "raw",
        "source": [],
        "metadata": {
          "collapsed": false
        }
      }
    }
  },
  "nbformat": 4,
  "nbformat_minor": 2
}