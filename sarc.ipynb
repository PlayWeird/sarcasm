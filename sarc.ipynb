{
 "cells": [
  {
   "cell_type": "code",
   "execution_count": 10,
   "metadata": {
    "pycharm": {
     "is_executing": false
    }
   },
   "outputs": [],
   "source": [
    "import sys\n",
    "sys.path.insert(1, 'src/')\n",
    "import utilities\n",
    "import config\n",
    "import csv\n",
    "\n",
    "from fastai import *\n",
    "from fastai.text import *"
   ]
  },
  {
   "cell_type": "code",
   "execution_count": 11,
   "metadata": {
    "pycharm": {
     "is_executing": false
    }
   },
   "outputs": [],
   "source": [
    "# import data\n",
    "SARC_DATA = config.SARC_DATA\n",
    "SARC_MAIN = config.SARC_MAIN\n",
    "SARC_POL = config.SARC_POL\n",
    "\n",
    "train_path = SARC_MAIN + 'train-balanced.csv'\n",
    "test_path = SARC_MAIN + 'test-balanced.csv'\n",
    "comment_path = SARC_MAIN + 'comments.json'\n",
    "\n",
    "train_docs, test_docs, train_labels, test_labels = utilities.load_sarc_responses(train_path, test_path, comment_path)"
   ]
  },
  {
   "cell_type": "code",
   "execution_count": 12,
   "metadata": {
    "pycharm": {
     "is_executing": false
    }
   },
   "outputs": [
    {
     "name": "stdout",
     "text": [
      "dict_keys(['ancestors', 'responses'])\n"
     ],
     "output_type": "stream"
    }
   ],
   "source": [
    "print(train_docs.keys())"
   ]
  },
  {
   "cell_type": "code",
   "execution_count": 13,
   "metadata": {
    "pycharm": {
     "is_executing": false
    }
   },
   "outputs": [
    {
     "data": {
      "text/plain": "(128541, 128541)"
     },
     "metadata": {},
     "output_type": "execute_result",
     "execution_count": 13
    }
   ],
   "source": [
    "len(train_docs['ancestors']), len(train_docs['responses'])"
   ]
  },
  {
   "cell_type": "code",
   "execution_count": 14,
   "metadata": {
    "pycharm": {
     "is_executing": false
    }
   },
   "outputs": [],
   "source": [
    "# Create csv data file in format for training\n",
    "learn_data = []\n",
    "\n",
    "for index, label in enumerate(train_labels):\n",
    "    ancestor = train_docs['ancestors'][index][0]\n",
    "    response1 = train_docs['responses'][index][0]\n",
    "    response2 = train_docs['responses'][index][1]\n",
    "    label1 = label[0]\n",
    "    label2 = label[1]\n",
    "    learn_data.append([label1, ancestor + ' - ' + response1])\n",
    "    learn_data.append([label2, ancestor + ' - ' + response2])\n",
    "\n",
    "with open('bunch_data.csv', 'w', newline='') as f:\n",
    "    writer = csv.writer(f)\n",
    "    writer.writerows(learn_data)"
   ]
  },
  {
   "cell_type": "code",
   "execution_count": 15,
   "outputs": [],
   "source": [
    "bs=192"
   ],
   "metadata": {
    "collapsed": false,
    "pycharm": {
     "name": "#%%\n",
     "is_executing": false
    }
   }
  },
  {
   "cell_type": "code",
   "execution_count": 22,
   "outputs": [],
   "source": [
    "# Load databunch for lm training\n",
    "ml_bunch = TextLMDataBunch.from_csv(path='.', csv_name='bunch_data.csv')"
   ],
   "metadata": {
    "collapsed": false,
    "pycharm": {
     "name": "#%%\n",
     "is_executing": false
    }
   }
  },
  {
   "cell_type": "code",
   "execution_count": 24,
   "outputs": [
    {
     "data": {
      "text/plain": "(60000, 205664)"
     },
     "metadata": {},
     "output_type": "execute_result",
     "execution_count": 24
    }
   ],
   "source": [
    "len(ml_bunch.vocab.itos),len(ml_bunch.train_ds)\n"
   ],
   "metadata": {
    "collapsed": false,
    "pycharm": {
     "name": "#%%\n",
     "is_executing": false
    }
   }
  },
  {
   "cell_type": "code",
   "execution_count": 25,
   "outputs": [
    {
     "data": {
      "text/plain": "<IPython.core.display.HTML object>",
      "text/html": "<table border=\"1\" class=\"dataframe\">\n  <thead>\n    <tr style=\"text-align: right;\">\n      <th>idx</th>\n      <th>text</th>\n    </tr>\n  </thead>\n  <tbody>\n    <tr>\n      <td>0</td>\n      <td>game and all but honestly i have already gotten plenty of suppressors and like 5 of the same stock for the jpg 36 , all i want is a fucking sight ! - i have yet to get a color , and i 'm 64 . xxbos official expansion : chivalry deadliest warrior - i just want them to fix projectiles disappearing and then i 'll consider paying for anything</td>\n    </tr>\n    <tr>\n      <td>1</td>\n      <td>in romania - guys its not a legitimate protest they blocked the street xxbos 7.00 - update 8 - are xxbos u2 to kick off world tour in vancouver - what is the best strategy to get tickets ? - write a script to refresh the sales page and enter your credit information once tickets are available . xxbos inkscape developers need your help - done .. +1 inkscape xxbos</td>\n    </tr>\n    <tr>\n      <td>2</td>\n      <td>money from marijuana sales are helping students pay for college in colorado - duh , why would anyone think that using tax money to help people better themselves is a good thing . xxbos i created a custom nhl 13 cover for us since we always seem to be left out in threads for these things - so awesome . xxbos marcus smart and boston celtics assistant coach jay larranaga</td>\n    </tr>\n    <tr>\n      <td>3</td>\n      <td>must be a gov'ment coverup , there 's no other reasonable explanation for it . xxbos jay bilas on gurley - jay bilas is annoying . xxbos russell westbrook on if he averages a triple double but does n't win mvp - xxunk xxbos why are eggs so versatile and delicious ? - because children can fix everything xxbos mlg to experiment with banning peacekeeper in for honor tournaments -</td>\n    </tr>\n    <tr>\n      <td>4</td>\n      <td>the extras in the background ruin it for me : ^ ) xxbos what is jimmy garoppolo 's trade value ? - a first and a fourth , obviously . xxbos this is what happens when you try recreating a monstercat visualizer in camtasia studio 8.6 - enjoying those 60fps xxbos how to be a boss - so this is why the course is always backed up . xxbos nascar</td>\n    </tr>\n  </tbody>\n</table>"
     },
     "metadata": {},
     "output_type": "display_data"
    }
   ],
   "source": [
    "ml_bunch.show_batch()"
   ],
   "metadata": {
    "collapsed": false,
    "pycharm": {
     "name": "#%%\n",
     "is_executing": false
    }
   }
  },
  {
   "cell_type": "code",
   "execution_count": null,
   "outputs": [],
   "source": [
    "\n"
   ],
   "metadata": {
    "collapsed": false,
    "pycharm": {
     "name": "#%%\n"
    }
   }
  }
 ],
 "metadata": {
  "kernelspec": {
   "display_name": "Python 3",
   "language": "python",
   "name": "python3"
  },
  "language_info": {
   "codemirror_mode": {
    "name": "ipython",
    "version": 3
   },
   "file_extension": ".py",
   "mimetype": "text/x-python",
   "name": "python",
   "nbconvert_exporter": "python",
   "pygments_lexer": "ipython3",
   "version": "3.7.4"
  },
  "pycharm": {
   "stem_cell": {
    "cell_type": "raw",
    "source": [],
    "metadata": {
     "collapsed": false
    }
   }
  }
 },
 "nbformat": 4,
 "nbformat_minor": 2
}