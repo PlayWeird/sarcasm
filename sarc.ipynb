{
 "cells": [
  {
   "cell_type": "code",
   "execution_count": 1,
   "metadata": {
    "pycharm": {
     "is_executing": false
    }
   },
   "outputs": [],
   "source": [
    "%reload_ext autoreload\n",
    "%autoreload 2\n",
    "%matplotlib inline\n",
    "\n",
    "import sys\n",
    "sys.path.insert(1, 'src/')\n",
    "import utilities\n",
    "import config\n",
    "import csv\n",
    "\n",
    "from fastai import *\n",
    "from fastai.text import *"
   ]
  },
  {
   "cell_type": "code",
   "execution_count": 2,
   "metadata": {
    "pycharm": {
     "is_executing": false
    }
   },
   "outputs": [],
   "source": [
    "# import data\n",
    "SARC_DATA = config.SARC_DATA\n",
    "SARC_MAIN = config.SARC_MAIN\n",
    "SARC_POL = config.SARC_POL\n",
    "\n",
    "train_path = SARC_MAIN + 'train-balanced.csv'\n",
    "test_path = SARC_MAIN + 'test-balanced.csv'\n",
    "comment_path = SARC_MAIN + 'comments.json'\n",
    "\n",
    "train_docs, test_docs, train_labels, test_labels = \\\n",
    "    utilities.load_sarc_responses(train_path, test_path, comment_path)"
   ]
  },
  {
   "cell_type": "code",
   "execution_count": 3,
   "metadata": {
    "pycharm": {
     "is_executing": false
    }
   },
   "outputs": [
    {
     "name": "stdout",
     "text": [
      "dict_keys(['ancestors', 'responses'])\n"
     ],
     "output_type": "stream"
    }
   ],
   "source": [
    "print(train_docs.keys())"
   ]
  },
  {
   "cell_type": "code",
   "execution_count": 4,
   "metadata": {
    "pycharm": {
     "is_executing": false
    }
   },
   "outputs": [
    {
     "data": {
      "text/plain": "(128541, 128541)"
     },
     "metadata": {},
     "output_type": "execute_result",
     "execution_count": 4
    }
   ],
   "source": [
    "len(train_docs['ancestors']), len(train_docs['responses'])"
   ]
  },
  {
   "cell_type": "code",
   "execution_count": 5,
   "metadata": {
    "pycharm": {
     "is_executing": false
    }
   },
   "outputs": [],
   "source": [
    "# Create csv data file in format for training\n",
    "learn_data = []\n",
    "\n",
    "for index, label in enumerate(train_labels):\n",
    "    ancestor = train_docs['ancestors'][index][0]\n",
    "    response1 = train_docs['responses'][index][0]\n",
    "    response2 = train_docs['responses'][index][1]\n",
    "    label1 = label[0]\n",
    "    label2 = label[1]\n",
    "    learn_data.append([label1, ancestor + ' - ' + response1])\n",
    "    learn_data.append([label2, ancestor + ' - ' + response2])\n",
    "\n",
    "with open('bunch_data.csv', 'w', newline='') as f:\n",
    "    writer = csv.writer(f)\n",
    "    writer.writerows(learn_data)"
   ]
  },
  {
   "cell_type": "code",
   "execution_count": 6,
   "metadata": {
    "pycharm": {
     "is_executing": false,
     "name": "#%%\n"
    }
   },
   "outputs": [],
   "source": [
    "bs=48"
   ]
  },
  {
   "cell_type": "code",
   "execution_count": 7,
   "metadata": {
    "pycharm": {
     "is_executing": false,
     "name": "#%%\n"
    }
   },
   "outputs": [],
   "source": [
    "torch.cuda.set_device(0)"
   ]
  },
  {
   "cell_type": "code",
   "execution_count": 8,
   "metadata": {
    "pycharm": {
     "is_executing": false,
     "name": "#%%\n"
    }
   },
   "outputs": [],
   "source": [
    "# Load databunch for lm training\n",
    "ml_bunch = TextLMDataBunch.from_csv(path='.', csv_name='bunch_data.csv')"
   ]
  },
  {
   "cell_type": "code",
   "execution_count": 9,
   "metadata": {
    "pycharm": {
     "is_executing": false,
     "name": "#%%\n"
    }
   },
   "outputs": [
    {
     "data": {
      "text/plain": "(60000, 205664)"
     },
     "metadata": {},
     "output_type": "execute_result",
     "execution_count": 9
    }
   ],
   "source": [
    "len(ml_bunch.vocab.itos),len(ml_bunch.train_ds)\n"
   ]
  },
  {
   "cell_type": "code",
   "execution_count": 10,
   "metadata": {
    "pycharm": {
     "is_executing": false,
     "name": "#%%\n"
    }
   },
   "outputs": [
    {
     "data": {
      "text/plain": "<IPython.core.display.HTML object>",
      "text/html": "<table border=\"1\" class=\"dataframe\">\n  <thead>\n    <tr style=\"text-align: right;\">\n      <th>idx</th>\n      <th>text</th>\n    </tr>\n  </thead>\n  <tbody>\n    <tr>\n      <td>0</td>\n      <td>- 0 xxmaj scotland ) - there 's nothing more that says \" fck you \" than scoring in a friendly . xxbos xxmaj principal blocks emergency exit to protect her xxmaj jeep - xxmaj man ... there 's even a xxmaj jeep - only parking spot right next to it ! xxbos xxmaj not the xxmaj president 's xxmaj fault , xxmaj but xxmaj exactly xxmaj what xxmaj he</td>\n    </tr>\n    <tr>\n      <td>1</td>\n      <td>israelis - xxmaj israel should just seize the money . xxbos xxup nfl fans deserve better than xxmaj phil xxmaj simms at the xxmaj super xxmaj bowl - xxup gus xxup johnson xxup or xxup riot . xxbos xxmaj did we suddenly learn how to drive in the rain ? - xxmaj all those damn transplants with their rainy condition driving skills ! xxbos rb26dett xxmaj ford xxmaj transit van</td>\n    </tr>\n    <tr>\n      <td>2</td>\n      <td>) are creepy pedophiles . xxbos xxmaj week 10 xxmaj unpopular xxmaj opinion xxmaj thread - xxmaj reception rules are not actually that difficult to understand / judge , people just get confused when refs get them wrong xxbos xxmaj well that did not go well . - i hear wedding bells ! xxbos \" xxmaj why would n't this game give me fucking arrows \" -arin - xxmaj you</td>\n    </tr>\n    <tr>\n      <td>3</td>\n      <td>completely unbearable . xxbos xxmaj do you sometimes find yourself imagining what your life would be like if you were born the opposite gender ? - xxmaj for the same skills , position , and education , i 'll get a lower salary . xxbos xxmaj they 'll fuck you up - xxmaj repost xxbos i decided to open my schools computers - xxmaj glorious ssd masterrace xxbos xxmaj my</td>\n    </tr>\n    <tr>\n      <td>4</td>\n      <td>? xxbos xxup nvda suicide thread - xxmaj thanks , i needed this right now xxbos xxmaj former xxmaj manchester xxmaj united player , xxmaj park xxmaj ji - sung , is now at university in xxmaj leicester . - xxmaj ca n't wait to see him in xxmaj mosh and take him for a nandos xxbos xxmaj islamist threatens to attack xxmaj germany , xxmaj merkel : paper -</td>\n    </tr>\n  </tbody>\n</table>"
     },
     "metadata": {},
     "output_type": "display_data"
    }
   ],
   "source": [
    "ml_bunch.show_batch()"
   ]
  },
  {
   "cell_type": "code",
   "execution_count": 11,
   "metadata": {
    "pycharm": {
     "is_executing": false,
     "name": "#%%\n"
    }
   },
   "outputs": [
    {
     "name": "stderr",
     "text": [
      "/home/gaetano/anaconda3/envs/sarc/lib/python3.7/site-packages/torch/serialization.py:292: UserWarning: Couldn't retrieve source code for container of type CrossEntropyLoss. It won't be checked for correctness upon loading.\n  \"type \" + obj.__name__ + \". It won't be checked \"\n"
     ],
     "output_type": "stream"
    }
   ],
   "source": [
    "# Save databunch\n",
    "ml_bunch.save('lm_databunch')\n"
   ]
  },
  {
   "cell_type": "code",
   "execution_count": 12,
   "metadata": {
    "pycharm": {
     "is_executing": false,
     "name": "#%%\n"
    }
   },
   "outputs": [],
   "source": [
    "# load databunch\n",
    "data_lm = load_data('.', 'lm_databunch', bs=bs)\n"
   ]
  },
  {
   "cell_type": "code",
   "execution_count": 13,
   "metadata": {
    "pycharm": {
     "is_executing": false,
     "name": "#%%\n"
    }
   },
   "outputs": [],
   "source": [
    "learn_lm = language_model_learner(data_lm, AWD_LSTM, drop_mult=0.3)"
   ]
  },
  {
   "cell_type": "code",
   "execution_count": 14,
   "metadata": {
    "pycharm": {
     "is_executing": false,
     "name": "#%%\n"
    }
   },
   "outputs": [],
   "source": [
    "wiki103 = pickle.load(open('wt103-fwd/itos_wt103.pkl', 'rb'))\n"
   ]
  },
  {
   "cell_type": "code",
   "execution_count": 15,
   "metadata": {
    "pycharm": {
     "is_executing": false,
     "name": "#%%\n"
    }
   },
   "outputs": [],
   "source": [
    "vocab = data_lm.vocab"
   ]
  },
  {
   "cell_type": "code",
   "execution_count": 16,
   "metadata": {
    "pycharm": {
     "is_executing": false,
     "name": "#%%\n"
    }
   },
   "outputs": [
    {
     "data": {
      "text/plain": "16618"
     },
     "metadata": {},
     "output_type": "execute_result",
     "execution_count": 16
    }
   ],
   "source": [
    "vocab.stoi['stingray']"
   ]
  },
  {
   "cell_type": "code",
   "execution_count": 17,
   "metadata": {
    "pycharm": {
     "is_executing": false,
     "name": "#%%\n"
    }
   },
   "outputs": [
    {
     "data": {
      "text/plain": "<IPython.core.display.HTML object>",
      "text/html": "\n    <div>\n        <style>\n            /* Turns off some styling */\n            progress {\n                /* gets rid of default border in Firefox and Opera. */\n                border: none;\n                /* Needs to be in here for Safari polyfill so background images work as expected. */\n                background-size: auto;\n            }\n            .progress-bar-interrupted, .progress-bar-interrupted::-webkit-progress-bar {\n                background: #F44336;\n            }\n        </style>\n      <progress value='0' class='' max='1', style='width:300px; height:20px; vertical-align: middle;'></progress>\n      \n    </div>\n    \n"
     },
     "metadata": {},
     "output_type": "display_data"
    },
    {
     "name": "stdout",
     "text": [
      "LR Finder is complete, type {learner_name}.recorder.plot() to see the graph.\n"
     ],
     "output_type": "stream"
    }
   ],
   "source": [
    "learn_lm.lr_find()"
   ]
  },
  {
   "cell_type": "code",
   "execution_count": 18,
   "metadata": {
    "pycharm": {
     "is_executing": false,
     "name": "#%%\n"
    }
   },
   "outputs": [
    {
     "data": {
      "text/plain": "<Figure size 432x288 with 1 Axes>",
      "image/png": "[encoded data removed]"
     },
     "metadata": {
      "needs_background": "light"
     },
     "output_type": "display_data"
    }
   ],
   "source": [
    "learn_lm.recorder.plot(skip_end=15)"
   ]
  },
  {
   "cell_type": "code",
   "execution_count": 19,
   "metadata": {
    "pycharm": {
     "is_executing": false,
     "name": "#%%\n"
    }
   },
   "outputs": [],
   "source": [
    "lr = 2e-2\n",
    "lr *= bs/48"
   ]
  },
  {
   "cell_type": "code",
   "execution_count": 20,
   "metadata": {
    "pycharm": {
     "is_executing": false,
     "name": "#%%\n"
    }
   },
   "outputs": [
    {
     "data": {
      "text/plain": "LanguageLearner(data=TextLMDataBunch;\n\nTrain: LabelList (205664 items)\nx: LMTextList\nxxbos xxmaj sheriff xxmaj joe xxmaj arpaio says he is still investigating xxmaj obama 's birth certificate - xxmaj thank god someone is still investigating .,xxbos xxmaj texts from my stalkerish ex after he decided i left him for someone else . - xxmaj at least he was original , pinky pic instead of dick pic,xxbos xxup o. xxmaj giroud goal vs xxmaj scotland ( xxmaj france 2 - 0 xxmaj scotland ) - there 's nothing more that says \" fck you \" than scoring in a friendly .,xxbos xxmaj principal blocks emergency exit to protect her xxmaj jeep - xxmaj man ... there 's even a xxmaj jeep - only parking spot right next to it !,xxbos xxmaj not the xxmaj president 's xxmaj fault , xxmaj but xxmaj exactly xxmaj what xxmaj he xxmaj wanted - that title sounds like trump wrote it .\ny: LMLabelList\n,,,,\nPath: .;\n\nValid: LabelList (51417 items)\nx: LMTextList\nxxbos springtrap in xxmaj vent | xxmaj blender xxmaj render - xxmaj this is really good .,xxbos xxmaj just ran into xxmaj spencer xxmaj xxunk at xxmaj west xxmaj hollywood xxmaj whole foods ! - i bet you regret wearing that shirt,xxbos xxmaj bomb - making materials found at teen terror suspect 's home - xxup xxunk their asses .,xxbos xxmaj dishonor on my family i used more than one xxunk charge for the xxunk fight i feel so ashamed - xxmaj people used xxunk in that fight ?,xxbos xxup til most of the money xxmaj george xxmaj clooney makes off his xxmaj nespresso commercials , he spends on a satellite that xxunk xxmaj sudanese war criminal and dictator xxmaj omar al - xxmaj bashir . - at least we already know who the worst joker is , its xxmaj heath \" the xxmaj ben xxmaj affleck of xxmaj australia \" xxmaj ledger\ny: LMLabelList\n,,,,\nPath: .;\n\nTest: None, model=SequentialRNN(\n  (0): AWD_LSTM(\n    (encoder): Embedding(60000, 400, padding_idx=1)\n    (encoder_dp): EmbeddingDropout(\n      (emb): Embedding(60000, 400, padding_idx=1)\n    )\n    (rnns): ModuleList(\n      (0): WeightDropout(\n        (module): LSTM(400, 1152, batch_first=True)\n      )\n      (1): WeightDropout(\n        (module): LSTM(1152, 1152, batch_first=True)\n      )\n      (2): WeightDropout(\n        (module): LSTM(1152, 400, batch_first=True)\n      )\n    )\n    (input_dp): RNNDropout()\n    (hidden_dps): ModuleList(\n      (0): RNNDropout()\n      (1): RNNDropout()\n      (2): RNNDropout()\n    )\n  )\n  (1): LinearDecoder(\n    (decoder): Linear(in_features=400, out_features=60000, bias=True)\n    (output_dp): RNNDropout()\n  )\n), opt_func=functools.partial(<class 'torch.optim.adam.Adam'>, betas=(0.9, 0.99)), loss_func=FlattenedLoss of CrossEntropyLoss(), metrics=[<function accuracy at 0x7fd4d0416950>], true_wd=True, bn_wd=True, wd=0.01, train_bn=True, path=PosixPath('.'), model_dir='models', callback_fns=[functools.partial(<class 'fastai.basic_train.Recorder'>, add_time=True, silent=False)], callbacks=[RNNTrainer\nlearn: ...\nalpha: 2.0\nbeta: 1.0, MixedPrecision\nlearn: ...\nloss_scale: 65536\nmax_noskip: 1000\ndynamic: True\nclip: None\nflat_master: False\nmax_scale: 16777216\nloss_fp32: True], layer_groups=[Sequential(\n  (0): WeightDropout(\n    (module): LSTM(400, 1152, batch_first=True)\n  )\n  (1): RNNDropout()\n), Sequential(\n  (0): WeightDropout(\n    (module): LSTM(1152, 1152, batch_first=True)\n  )\n  (1): RNNDropout()\n), Sequential(\n  (0): WeightDropout(\n    (module): LSTM(1152, 400, batch_first=True)\n  )\n  (1): RNNDropout()\n), Sequential(\n  (0): Embedding(60000, 400, padding_idx=1)\n  (1): EmbeddingDropout(\n    (emb): Embedding(60000, 400, padding_idx=1)\n  )\n  (2): LinearDecoder(\n    (decoder): Linear(in_features=400, out_features=60000, bias=True)\n    (output_dp): RNNDropout()\n  )\n)], add_time=True, silent=False)"
     },
     "metadata": {},
     "output_type": "execute_result",
     "execution_count": 20
    }
   ],
   "source": [
    "learn_lm.to_fp16()\n"
   ]
  },
  {
   "cell_type": "code",
   "execution_count": 21,
   "metadata": {
    "pycharm": {
     "is_executing": false,
     "name": "#%%\n"
    }
   },
   "outputs": [
    {
     "data": {
      "text/plain": "<IPython.core.display.HTML object>",
      "text/html": "\n    <div>\n        <style>\n            /* Turns off some styling */\n            progress {\n                /* gets rid of default border in Firefox and Opera. */\n                border: none;\n                /* Needs to be in here for Safari polyfill so background images work as expected. */\n                background-size: auto;\n            }\n            .progress-bar-interrupted, .progress-bar-interrupted::-webkit-progress-bar {\n                background: #F44336;\n            }\n        </style>\n      <progress value='0' class='' max='1', style='width:300px; height:20px; vertical-align: middle;'></progress>\n      \n    </div>\n    \n"
     },
     "metadata": {},
     "output_type": "display_data"
    }
   ],
   "source": [
    "learn_lm.fit_one_cycle(1, lr*10, moms=(0.8, 0.7))"
   ]
  },
  {
   "cell_type": "code",
   "execution_count": 22,
   "metadata": {
    "pycharm": {
     "is_executing": false,
     "name": "#%%\n"
    }
   },
   "outputs": [],
   "source": [
    "learn_lm.unfreeze()"
   ]
  },
  {
   "cell_type": "code",
   "execution_count": 23,
   "metadata": {
    "pycharm": {
     "is_executing": false
    }
   },
   "outputs": [
    {
     "data": {
      "text/plain": "<IPython.core.display.HTML object>",
      "text/html": "\n    <div>\n        <style>\n            /* Turns off some styling */\n            progress {\n                /* gets rid of default border in Firefox and Opera. */\n                border: none;\n                /* Needs to be in here for Safari polyfill so background images work as expected. */\n                background-size: auto;\n            }\n            .progress-bar-interrupted, .progress-bar-interrupted::-webkit-progress-bar {\n                background: #F44336;\n            }\n        </style>\n      <progress value='0' class='' max='10', style='width:300px; height:20px; vertical-align: middle;'></progress>\n      \n    </div>\n    \n"
     },
     "metadata": {},
     "output_type": "display_data"
    }
   ],
   "source": [
    "learn_lm.fit_one_cycle(10, lr, moms=(0.8,0.7))"
   ]
  },
  {
   "cell_type": "code",
   "execution_count": 24,
   "metadata": {
    "pycharm": {
     "is_executing": false
    }
   },
   "outputs": [],
   "source": [
    "learn_lm.save('fine_tuned')\n",
    "learn_lm.save_encoder('fine_tuned_enc')"
   ]
  },
  {
   "cell_type": "code",
   "execution_count": 26,
   "metadata": {
    "pycharm": {
     "is_executing": false
    }
   },
   "outputs": [],
   "source": [
    "learn_lm.load('fine_tuned')\n"
   ]
  },
  {
   "cell_type": "code",
   "execution_count": null,
   "outputs": [],
   "source": [
    "\n"
   ],
   "metadata": {
    "collapsed": false,
    "pycharm": {
     "name": "#%%\n"
    }
   }
  }
 ],
 "metadata": {
  "kernelspec": {
   "display_name": "Python 3",
   "language": "python",
   "name": "python3"
  },
  "language_info": {
   "codemirror_mode": {
    "name": "ipython",
    "version": 3
   },
   "file_extension": ".py",
   "mimetype": "text/x-python",
   "name": "python",
   "nbconvert_exporter": "python",
   "pygments_lexer": "ipython3",
   "version": "3.7.4"
  },
  "pycharm": {
   "stem_cell": {
    "cell_type": "raw",
    "source": [],
    "metadata": {
     "collapsed": false
    }
   }
  }
 },
 "nbformat": 4,
 "nbformat_minor": 2
}