{
 "cells": [
  {
   "cell_type": "code",
   "execution_count": 3,
   "metadata": {
    "pycharm": {
     "is_executing": false
    }
   },
   "outputs": [],
   "source": [
    "%reload_ext autoreload\n",
    "%autoreload 2\n",
    "%matplotlib inline\n",
    "\n",
    "import sys\n",
    "sys.path.insert(1, 'src/')\n",
    "from src import utilities\n",
    "import config\n",
    "import csv\n",
    "\n",
    "from fastai import *\n",
    "from fastai.text import *"
   ]
  },
  {
   "cell_type": "code",
   "execution_count": 4,
   "metadata": {
    "pycharm": {
     "is_executing": false
    }
   },
   "outputs": [],
   "source": [
    "# import data\n",
    "SARC_DATA = config.SARC_DATA\n",
    "SARC_MAIN = config.SARC_MAIN\n",
    "SARC_POL = config.SARC_POL\n",
    "\n",
    "train_path = SARC_MAIN + 'train-balanced.csv'\n",
    "test_path = SARC_MAIN + 'test-balanced.csv'\n",
    "comment_path = SARC_MAIN + 'comments.json'\n",
    "\n",
    "train_docs, test_docs, train_labels, test_labels = \\\n",
    "    utilities.load_sarc_responses(train_path, test_path, comment_path)"
   ]
  },
  {
   "cell_type": "code",
   "execution_count": 5,
   "metadata": {
    "pycharm": {
     "is_executing": false
    }
   },
   "outputs": [
    {
     "name": "stdout",
     "text": [
      "dict_keys(['ancestors', 'responses'])\n"
     ],
     "output_type": "stream"
    }
   ],
   "source": [
    "print(train_docs.keys())"
   ]
  },
  {
   "cell_type": "code",
   "execution_count": 6,
   "metadata": {
    "pycharm": {
     "is_executing": false
    }
   },
   "outputs": [
    {
     "data": {
      "text/plain": "(128541, 128541)"
     },
     "metadata": {},
     "output_type": "execute_result",
     "execution_count": 6
    }
   ],
   "source": [
    "len(train_docs['ancestors']), len(train_docs['responses'])"
   ]
  },
  {
   "cell_type": "code",
   "execution_count": 7,
   "metadata": {
    "pycharm": {
     "is_executing": false
    }
   },
   "outputs": [],
   "source": [
    "# Create csv data file in format for training\n",
    "learn_data = []\n",
    "\n",
    "for index, label in enumerate(train_labels):\n",
    "    ancestor = train_docs['ancestors'][index][0]\n",
    "    response1 = train_docs['responses'][index][0]\n",
    "    response2 = train_docs['responses'][index][1]\n",
    "    label1 = label[0]\n",
    "    label2 = label[1]\n",
    "    learn_data.append([label1, ancestor + ' - ' + response1])\n",
    "    learn_data.append([label2, ancestor + ' - ' + response2])\n",
    "\n",
    "with open('bunch_data.csv', 'w', newline='') as f:\n",
    "    writer = csv.writer(f)\n",
    "    writer.writerows(learn_data)"
   ]
  },
  {
   "cell_type": "code",
   "execution_count": 8,
   "metadata": {
    "pycharm": {
     "is_executing": false,
     "name": "#%%\n"
    }
   },
   "outputs": [],
   "source": [
    "bs=48"
   ]
  },
  {
   "cell_type": "code",
   "execution_count": 9,
   "metadata": {
    "pycharm": {
     "is_executing": false,
     "name": "#%%\n"
    }
   },
   "outputs": [],
   "source": [
    "torch.cuda.set_device(0)"
   ]
  },
  {
   "cell_type": "code",
   "execution_count": 10,
   "metadata": {
    "pycharm": {
     "is_executing": false,
     "name": "#%%\n"
    }
   },
   "outputs": [],
   "source": [
    "# Load databunch for lm training\n",
    "ml_bunch = TextLMDataBunch.from_csv(path='.', csv_name='bunch_data.csv')"
   ]
  },
  {
   "cell_type": "code",
   "execution_count": 11,
   "metadata": {
    "pycharm": {
     "is_executing": false,
     "name": "#%%\n"
    }
   },
   "outputs": [
    {
     "data": {
      "text/plain": "(60000, 205664)"
     },
     "metadata": {},
     "output_type": "execute_result",
     "execution_count": 11
    }
   ],
   "source": [
    "len(ml_bunch.vocab.itos),len(ml_bunch.train_ds)\n"
   ]
  },
  {
   "cell_type": "code",
   "execution_count": 12,
   "metadata": {
    "pycharm": {
     "is_executing": false,
     "name": "#%%\n"
    }
   },
   "outputs": [
    {
     "data": {
      "text/plain": "<IPython.core.display.HTML object>",
      "text/html": "<table border=\"1\" class=\"dataframe\">\n  <thead>\n    <tr style=\"text-align: right;\">\n      <th>idx</th>\n      <th>text</th>\n    </tr>\n  </thead>\n  <tbody>\n    <tr>\n      <td>0</td>\n      <td>89 % ban rate in platinum+ so the juggernauts ( skarner morde garen and darius ) have all a ban rate from 65 % -90 % - xxmaj riot 's xxup tsm favoritism is shining xxbos xxmaj five xxmaj games xxmaj that xxmaj should be on or xxmaj localized for the xxup ps xxmaj vita - persona 5 . sad that its going to be ps4 only . xxbos \"</td>\n    </tr>\n    <tr>\n      <td>1</td>\n      <td>xxmaj african xxmaj food xxmaj for xxmaj the xxmaj first xxmaj time - i am triggered by all this racism guys ! xxbos xxmaj canadian xxmaj newspaper takes down article about refugee children choking other kids with a chain shouting \" xxmaj muslims will rule the world \" because cucks complained - xxup religion xxup of xxup peace e l i g i o n o f p e a</td>\n    </tr>\n    <tr>\n      <td>2</td>\n      <td>with your sister really well xxbos xxmaj bears xxup hc xxmaj john xxmaj fox on rookie xxup rb xxmaj jordan xxmaj howard : \" xxmaj he 's outstanding , and we 'll ride him pretty good moving forward . \" - xxmaj at least until 4th and 1 , then it 's xxmaj bell cow baby ! xxbos xxmaj brewery apologizes after \" xxmaj date xxmaj grape \" submission on</td>\n    </tr>\n    <tr>\n      <td>3</td>\n      <td>its pit bull ban - xxmaj wonder how long before someone xxunk posts a photo of the breed with a toddler saying \" xxup see \" . xxbos xxmaj man holds gamestop clerk at gunpoint , steals playstation xxmaj vita , xxmaj orlando cops say | xxmaj news - xxmaj gamestop - xxmaj power to the xxmaj players xxbos xxmaj for those pesky gamer viruses - xxmaj got ta protect</td>\n    </tr>\n    <tr>\n      <td>4</td>\n      <td>uw - xxmaj madison xxmaj student xxmaj creates xxmaj sweatshirt xxmaj that xxmaj says \" xxmaj all white xxmaj people xxmaj are xxmaj racist \" - xxmaj definition of irony xxbos i think you 'll enjoy my reppin it at my graduation xxup :p - pretty nice , only wondering what is it made of ? xxbos xxmaj neverwet on xxmaj skin , this stuff is xxmaj awesome - how</td>\n    </tr>\n  </tbody>\n</table>"
     },
     "metadata": {},
     "output_type": "display_data"
    }
   ],
   "source": [
    "ml_bunch.show_batch()"
   ]
  },
  {
   "cell_type": "code",
   "execution_count": 13,
   "metadata": {
    "pycharm": {
     "is_executing": false,
     "name": "#%%\n"
    }
   },
   "outputs": [],
   "source": [
    "# Save databunch\n",
    "ml_bunch.save('lm_databunch')\n"
   ]
  },
  {
   "cell_type": "code",
   "execution_count": 14,
   "metadata": {
    "pycharm": {
     "is_executing": false,
     "name": "#%%\n"
    }
   },
   "outputs": [],
   "source": [
    "# load databunch\n",
    "data_lm = load_data('.', 'lm_databunch', bs=bs)\n"
   ]
  },
  {
   "cell_type": "code",
   "execution_count": 15,
   "metadata": {
    "pycharm": {
     "is_executing": false,
     "name": "#%%\n"
    }
   },
   "outputs": [],
   "source": [
    "learn_lm = language_model_learner(data_lm, AWD_LSTM, drop_mult=0.3)"
   ]
  },
  {
   "cell_type": "code",
   "execution_count": 18,
   "metadata": {
    "pycharm": {
     "is_executing": false,
     "name": "#%%\n"
    }
   },
   "outputs": [],
   "source": [
    "wiki103 = pickle.load(open(Config().model_path()/'wt103-fwd/itos_wt103.pkl', 'rb'))\n"
   ]
  },
  {
   "cell_type": "code",
   "execution_count": 19,
   "metadata": {
    "pycharm": {
     "is_executing": false,
     "name": "#%%\n"
    }
   },
   "outputs": [],
   "source": [
    "vocab = data_lm.vocab"
   ]
  },
  {
   "cell_type": "code",
   "execution_count": 21,
   "metadata": {
    "pycharm": {
     "is_executing": false,
     "name": "#%%\n"
    }
   },
   "outputs": [
    {
     "data": {
      "text/plain": "19214"
     },
     "metadata": {},
     "output_type": "execute_result",
     "execution_count": 21
    }
   ],
   "source": [
    "vocab.stoi['stingray']"
   ]
  },
  {
   "cell_type": "code",
   "execution_count": 22,
   "metadata": {
    "pycharm": {
     "is_executing": false,
     "name": "#%%\n"
    }
   },
   "outputs": [
    {
     "data": {
      "text/plain": "<IPython.core.display.HTML object>",
      "text/html": "\n    <div>\n        <style>\n            /* Turns off some styling */\n            progress {\n                /* gets rid of default border in Firefox and Opera. */\n                border: none;\n                /* Needs to be in here for Safari polyfill so background images work as expected. */\n                background-size: auto;\n            }\n            .progress-bar-interrupted, .progress-bar-interrupted::-webkit-progress-bar {\n                background: #F44336;\n            }\n        </style>\n      <progress value='0' class='' max='1', style='width:300px; height:20px; vertical-align: middle;'></progress>\n      \n    </div>\n    \n"
     },
     "metadata": {},
     "output_type": "display_data"
    },
    {
     "name": "stdout",
     "text": [
      "LR Finder is complete, type {learner_name}.recorder.plot() to see the graph.\n"
     ],
     "output_type": "stream"
    }
   ],
   "source": [
    "learn_lm.lr_find()"
   ]
  },
  {
   "cell_type": "code",
   "execution_count": 23,
   "metadata": {
    "pycharm": {
     "is_executing": false,
     "name": "#%%\n"
    }
   },
   "outputs": [
    {
     "data": {
      "text/plain": "<Figure size 432x288 with 1 Axes>",
      "image/png": "[encoded data removed]"
     },
     "metadata": {
      "needs_background": "light"
     },
     "output_type": "display_data"
    }
   ],
   "source": [
    "learn_lm.recorder.plot(skip_end=15)"
   ]
  },
  {
   "cell_type": "code",
   "execution_count": 24,
   "metadata": {
    "pycharm": {
     "is_executing": false,
     "name": "#%%\n"
    }
   },
   "outputs": [],
   "source": [
    "lr = 2e-2\n",
    "lr *= bs/48"
   ]
  },
  {
   "cell_type": "code",
   "execution_count": 25,
   "metadata": {
    "pycharm": {
     "is_executing": false,
     "name": "#%%\n"
    }
   },
   "outputs": [
    {
     "data": {
      "text/plain": "LanguageLearner(data=TextLMDataBunch;\n\nTrain: LabelList (205664 items)\nx: LMTextList\nxxbos xxmaj only a very , very , very small preview . - xxwrep 5 skyactive xxmaj dynamic xxmaj fuels skyactive skyactive skyactive skyactive,xxbos xxup til that the xxmaj roman xxmaj emperor xxmaj nero bought a young boy , married him , castrated him and dressed him up as a girl at public events . - xxmaj what an artist died in him .,xxbos xxmaj darius has a 89 % ban rate in platinum+ so the juggernauts ( skarner morde garen and darius ) have all a ban rate from 65 % -90 % - xxmaj riot 's xxup tsm favoritism is shining,xxbos xxmaj five xxmaj games xxmaj that xxmaj should be on or xxmaj localized for the xxup ps xxmaj vita - persona 5 . sad that its going to be ps4 only .,xxbos \" xxmaj diversity is good , but a lack of diversity is n't bad . \" - xxmaj so smug .\ny: LMLabelList\n,,,,\nPath: .;\n\nValid: LabelList (51417 items)\nx: LMTextList\nxxbos xxmaj how to win at xxunk : xxmaj hold \" l \" - xxmaj the year is 20xx , all smash battles are determined by xxunk games , the most popular strategy is who can hold l first .,xxbos # xxmaj xxunk is ready for tonight - xxmaj ca n't wait to see him knock out xxmaj cody and make him look like a joke .,xxbos xxmaj scientists just broke a fusion world record - and it lifts the bar for clean energy potential - xxmaj this is exciting news , still , a long way from it but they are making good progress,xxbos xxmaj wheel came out nice - xxmaj yea man all j 's are ugly # xxunk,xxbos ( 801 spoilers ) criticism for gay couple on doctor who . - oh , for fuck 's sake\ny: LMLabelList\n,,,,\nPath: .;\n\nTest: None, model=SequentialRNN(\n  (0): AWD_LSTM(\n    (encoder): Embedding(60000, 400, padding_idx=1)\n    (encoder_dp): EmbeddingDropout(\n      (emb): Embedding(60000, 400, padding_idx=1)\n    )\n    (rnns): ModuleList(\n      (0): WeightDropout(\n        (module): LSTM(400, 1152, batch_first=True)\n      )\n      (1): WeightDropout(\n        (module): LSTM(1152, 1152, batch_first=True)\n      )\n      (2): WeightDropout(\n        (module): LSTM(1152, 400, batch_first=True)\n      )\n    )\n    (input_dp): RNNDropout()\n    (hidden_dps): ModuleList(\n      (0): RNNDropout()\n      (1): RNNDropout()\n      (2): RNNDropout()\n    )\n  )\n  (1): LinearDecoder(\n    (decoder): Linear(in_features=400, out_features=60000, bias=True)\n    (output_dp): RNNDropout()\n  )\n), opt_func=functools.partial(<class 'torch.optim.adam.Adam'>, betas=(0.9, 0.99)), loss_func=FlattenedLoss of CrossEntropyLoss(), metrics=[<function accuracy at 0x7f5aee5f0320>], true_wd=True, bn_wd=True, wd=0.01, train_bn=True, path=PosixPath('.'), model_dir='models', callback_fns=[functools.partial(<class 'fastai.basic_train.Recorder'>, add_time=True, silent=False)], callbacks=[RNNTrainer\nlearn: ...\nalpha: 2.0\nbeta: 1.0, MixedPrecision\nlearn: ...\nloss_scale: 65536\nmax_noskip: 1000\ndynamic: True\nclip: None\nflat_master: False\nmax_scale: 16777216\nloss_fp32: True], layer_groups=[Sequential(\n  (0): WeightDropout(\n    (module): LSTM(400, 1152, batch_first=True)\n  )\n  (1): RNNDropout()\n), Sequential(\n  (0): WeightDropout(\n    (module): LSTM(1152, 1152, batch_first=True)\n  )\n  (1): RNNDropout()\n), Sequential(\n  (0): WeightDropout(\n    (module): LSTM(1152, 400, batch_first=True)\n  )\n  (1): RNNDropout()\n), Sequential(\n  (0): Embedding(60000, 400, padding_idx=1)\n  (1): EmbeddingDropout(\n    (emb): Embedding(60000, 400, padding_idx=1)\n  )\n  (2): LinearDecoder(\n    (decoder): Linear(in_features=400, out_features=60000, bias=True)\n    (output_dp): RNNDropout()\n  )\n)], add_time=True, silent=False)"
     },
     "metadata": {},
     "output_type": "execute_result",
     "execution_count": 25
    }
   ],
   "source": [
    "learn_lm.to_fp16()\n"
   ]
  },
  {
   "cell_type": "code",
   "execution_count": null,
   "metadata": {
    "pycharm": {
     "is_executing": true,
     "name": "#%%\n"
    }
   },
   "outputs": [],
   "source": [
    "learn_lm.fit_one_cycle(1, lr*10, moms=(0.8, 0.7))"
   ]
  },
  {
   "cell_type": "code",
   "execution_count": null,
   "metadata": {
    "pycharm": {
     "is_executing": true,
     "name": "#%%\n"
    }
   },
   "outputs": [],
   "source": [
    "learn_lm.unfreeze()"
   ]
  },
  {
   "cell_type": "code",
   "execution_count": null,
   "metadata": {
    "pycharm": {
     "is_executing": true
    }
   },
   "outputs": [],
   "source": [
    "learn_lm.fit_one_cycle(10, lr, moms=(0.8,0.7))"
   ]
  },
  {
   "cell_type": "code",
   "execution_count": null,
   "metadata": {
    "pycharm": {
     "is_executing": true
    }
   },
   "outputs": [],
   "source": [
    "learn_lm.save('fine_tuned')\n",
    "learn_lm.save_encoder('fine_tuned_enc')"
   ]
  },
  {
   "cell_type": "code",
   "execution_count": null,
   "metadata": {
    "pycharm": {
     "is_executing": false
    }
   },
   "outputs": [],
   "source": [
    "learn_lm.load('fine_tuned')\n"
   ]
  },
  {
   "cell_type": "code",
   "execution_count": null,
   "outputs": [],
   "source": [
    "\n"
   ],
   "metadata": {
    "collapsed": false,
    "pycharm": {
     "name": "#%%\n",
     "is_executing": false
    }
   }
  }
 ],
 "metadata": {
  "kernelspec": {
   "display_name": "Python 3",
   "language": "python",
   "name": "python3"
  },
  "language_info": {
   "codemirror_mode": {
    "name": "ipython",
    "version": 3
   },
   "file_extension": ".py",
   "mimetype": "text/x-python",
   "name": "python",
   "nbconvert_exporter": "python",
   "pygments_lexer": "ipython3",
   "version": "3.7.4"
  },
  "pycharm": {
   "stem_cell": {
    "cell_type": "raw",
    "source": [],
    "metadata": {
     "collapsed": false
    }
   }
  }
 },
 "nbformat": 4,
 "nbformat_minor": 2
}