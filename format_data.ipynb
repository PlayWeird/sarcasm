{
 "cells": [
  {
   "cell_type": "code",
   "execution_count": 2,
   "metadata": {
    "pycharm": {
     "is_executing": false
    }
   },
   "outputs": [],
   "source": [
    "%reload_ext autoreload\n",
    "%autoreload 2\n",
    "%matplotlib inline\n",
    "\n",
    "import sys\n",
    "sys.path.insert(1, 'src/')\n",
    "import utilities\n",
    "import config\n",
    "import csv\n",
    "\n",
    "from fastai.text import *"
   ]
  },
  {
   "cell_type": "code",
   "execution_count": 2,
   "metadata": {
    "pycharm": {
     "is_executing": false
    }
   },
   "outputs": [],
   "source": [
    "# Load the data for LM finetuning\n",
    "\n",
    "SARC_DATA = config.SARC_DATA\n",
    "SARC_MAIN = config.SARC_MAIN\n",
    "SARC_POL = config.SARC_POL\n",
    "\n",
    "train_path = SARC_MAIN + 'train-unbalanced.csv'\n",
    "test_path = SARC_MAIN + 'test-unbalanced.csv'\n",
    "comment_path = SARC_MAIN + 'comments.json'\n",
    "\n",
    "train_docs, test_docs, train_labels, test_labels = \\\n",
    "    utilities.load_sarc_responses(train_path, test_path, comment_path)"
   ]
  },
  {
   "cell_type": "code",
   "execution_count": 3,
   "metadata": {
    "pycharm": {
     "is_executing": false
    }
   },
   "outputs": [],
   "source": [
    "# Format data for LM finetuning\n",
    "# TODO create funtion for this purpose\n",
    "\n",
    "learn_data = []\n",
    "invalids = ['n/a', 'N/A', 'null', 'NULL', 'na', 'NA', 'nan', 'NaN', 'NAN']\n",
    "\n",
    "for index, sample in enumerate(train_labels):\n",
    "    ancestor = train_docs['ancestors'][index][0]\n",
    "    learn_data.append([-1, ancestor])\n",
    "    for i, label in enumerate(sample):\n",
    "        response = train_docs['responses'][index][i]\n",
    "        if response not in invalids:\n",
    "            learn_data.append([int(label), response])\n",
    "\n",
    "for index, sample in enumerate(test_labels):\n",
    "    ancestor = test_docs['ancestors'][index][0]\n",
    "    learn_data.append([-1, ancestor])\n",
    "    for i, label in enumerate(sample):\n",
    "        response = test_docs['responses'][index][i]\n",
    "        if response not in invalids:\n",
    "            learn_data.append([int(label), response])"
   ]
  },
  {
   "cell_type": "code",
   "execution_count": 4,
   "metadata": {
    "pycharm": {
     "is_executing": false
    }
   },
   "outputs": [],
   "source": [
    "# Write csv with LM finetuning data\n",
    "\n",
    "with open('DATA/finetune_data.csv', 'w', newline='') as f:\n",
    "    writer = csv.writer(f)\n",
    "    writer.writerows(learn_data)"
   ]
  },
  {
   "cell_type": "code",
   "execution_count": 5,
   "metadata": {
    "pycharm": {
     "is_executing": true,
     "name": "#%%\n"
    }
   },
   "outputs": [],
   "source": [
    "# Load databunch for lm training\n",
    "ml_bunch = TextLMDataBunch.from_csv(path='.', csv_name='DATA/finetune_data.csv')\n",
    "\n",
    "# Save databunch\n",
    "ml_bunch.save('DATA/lm_databunch')"
   ]
  },
  {
   "cell_type": "code",
   "execution_count": 3,
   "metadata": {},
   "outputs": [],
   "source": [
    "# Load the data for classification\n",
    "\n",
    "SARC_DATA = config.SARC_DATA\n",
    "SARC_MAIN = config.SARC_MAIN\n",
    "SARC_POL = config.SARC_POL\n",
    "\n",
    "train_path = SARC_MAIN + 'train-balanced.csv'\n",
    "test_path = SARC_MAIN + 'test-balanced.csv'\n",
    "comment_path = SARC_MAIN + 'comments.json'\n",
    "\n",
    "train_docs, test_docs, train_labels, test_labels = \\\n",
    "    utilities.load_sarc_responses(train_path, test_path, comment_path)"
   ]
  },
  {
   "cell_type": "code",
   "execution_count": 4,
   "metadata": {
    "pycharm": {
     "is_executing": false
    }
   },
   "outputs": [],
   "source": [
    "# Format data for classification\n",
    "\n",
    "learn_data = []\n",
    "invalids = ['n/a', 'N/A', 'null', 'NULL', 'na', 'NA', 'nan', 'NaN', 'NAN']\n",
    "\n",
    "for index, sample in enumerate(train_labels):\n",
    "    ancestor = train_docs['ancestors'][index][0]\n",
    "    for i, label in enumerate(sample):\n",
    "        response = train_docs['responses'][index][i]\n",
    "        if response not in invalids:\n",
    "            learn_data.append([int(label), ancestor + ' ^ ' + response])"
   ]
  },
  {
   "cell_type": "code",
   "execution_count": 5,
   "metadata": {
    "pycharm": {
     "is_executing": false
    }
   },
   "outputs": [],
   "source": [
    "# Write csv with classification data\n",
    "\n",
    "with open('DATA/class_data.csv', 'w', newline='') as f:\n",
    "    writer = csv.writer(f)\n",
    "    writer.writerows(learn_data)"
   ]
  },
  {
   "cell_type": "code",
   "execution_count": 6,
   "metadata": {},
   "outputs": [],
   "source": [
    "# load databunch for classification training\n",
    "class_bunch = TextClasDataBunch.from_csv(path='.', csv_name='DATA/class_data.csv')\n",
    "\n",
    "# save databunch\n",
    "class_bunch.save('DATA/class_databunch')"
   ]
  },
  {
   "cell_type": "code",
   "execution_count": null,
   "metadata": {},
   "outputs": [],
   "source": []
  }
 ],
 "metadata": {
  "kernelspec": {
   "display_name": "Python 3",
   "language": "python",
   "name": "python3"
  },
  "language_info": {
   "codemirror_mode": {
    "name": "ipython",
    "version": 3
   },
   "file_extension": ".py",
   "mimetype": "text/x-python",
   "name": "python",
   "nbconvert_exporter": "python",
   "pygments_lexer": "ipython3",
   "version": "3.7.5"
  },
  "pycharm": {
   "stem_cell": {
    "cell_type": "raw",
    "metadata": {
     "collapsed": false
    },
    "source": []
   }
  }
 },
 "nbformat": 4,
 "nbformat_minor": 1
}
